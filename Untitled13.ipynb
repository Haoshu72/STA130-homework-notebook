{
 "cells": [
  {
   "cell_type": "markdown",
   "id": "842e4d26",
   "metadata": {},
   "source": [
    "In this CSCS data analysis project, I will explore the important factors that influence an individual's health and\n",
    "well-being through three methods, which are confidence intervals, linear regression equations, and hypothesis \n",
    "testing. These analyses will help us to make meaningful efforts to improve the key factors of personal health, as well as providing information about social connectedness and well-being.\n",
    "\n",
    "Research Question:\n",
    "Firstly,the question I will be looking at is ‘what is the overall average level of subjective well-being of the population under investigation?’ \n",
    "Variables and Data Collection:\n",
    "Therefore, I will select the data column WELLNESS_subjective_hapiness_scale_always_happy, which is a variable that measures the extent to people feels happy in their daily life all the time. \n",
    "Analysis Method:\n",
    "I'm going to choose to do the analysis with confidence intervals, which will estimate the average level of happiness of the population surveyed and produce a range for assessing happiness. First, i will follow the sample data to calculate the sample mean and standard error, and then through the formula ‘sample mean ± critical value * standard error’ to calculate the upper and lower limits of the confidence interval, and in order to ensure the validity of the confidence interval, need to meet the random sampling.\n",
    "Expected Results:\n",
    "If the confidence interval is narrower at a set level of confidence (e.g. 95%), this would indicate that the sample has a more accurate estimate of happiness. There is no significant difference in the average happiness level of the surveyed population. If the confidence interval is wide, it indicates that happiness varies more among the surveyed population. Also, when the mean falls in the higher range, it indicates that happiness is generally high in the sample population, and conversely, it indicates that happiness is generally low in the sample population. \n",
    "Data Visualization:\n",
    "In addition, in order to demonstrate the distribution of subjective well-being, I will use a histogram to view the concentration trends and distribution patterns of the data and to observe whether there are any significant outliers. The histogram provides a clear picture of the distribution of subjective well-being and helps us to determine if the data qualifies for the construction of confidence intervals. This is similar to the way confidence intervals were used to estimate coffee scores in tut4.\n",
    "\n",
    "Research Question:\n",
    "Next, The question I will investigate is whether there is a significant relationship between the number of close friends an individual has and their subjective well-being? \n",
    "Variables and Data Collection:\n",
    "To this end，I will select the columns WELLNESS_subjective_hapiness_scale_always_happy and CONNECTION_social_num_close_friends_grouped, where WELLNESS_subjective_hapiness_scale_always_happy as the dependent variable that measures the degree to people consistently feels happy in their daily life, and CONNECTION_social_num_close_friends_grouped as the independent variable that shows the number of friends someone has in their group of friends. \n",
    "Analysis Method:\n",
    "I will choose a linear regression equation for the analysis, which will in turn lead to a link between the number of friends in the group and happiness. For example how much happiness may increase with each additional best friend. Firstly, I will set the linear regression model as ‘Happiness = Intercept + Slope * Number of Friends + Residual’’, then the regression coefficients were estimated using least squares back to find the regression straight line with the optimal intercept. Then, perform a t-test. In addition, in order to ensure the validity of the linear regression model, the following assumptions need to be met, i.e., there is a linear relationship between the independent variable and the dependent variable, the data were collected independently, the errors have a constant variance over all values of the independent variables, and the errors are normally distributed\n",
    "Expected Results:\n",
    "I expect the regression equation to show a positive correlation, i.e. as the number of buddies increases, so does happiness. The strength of this relationship will be reflected by whether the model is significant or not, if the model is significant it suggests that the number of friends is a strong predictor of happiness. Conversely, if the model is not significant, it may mean that the number of close friends has a small effect on happiness, i.e., happiness cannot be predicted by the number of friends.\n",
    "Data Visualization:\n",
    "In addition, I will use a scatterplot to show the association between these two variables. This is because, a scatter plot can help us to identify if there is a linear relationship and to observe the trend of happiness with the number of friends.\n",
    "\n",
    "Research Question:\n",
    "Finally,  I will examine the question is whether loneliness significantly affects an individual's subjective well-being? \n",
    "Variables and Data Collection:\n",
    "To this end, I will select the columns WELLNESS_subjective_hapiness_scle_always_happy and LONELY_ucla_loneliness_scale_isolated.\n",
    "Analysis Method:\n",
    "I will choose to analyse by hypothesis test and thus assess whether loneliness has a significant effect on the level of subjective well-being. Firstly, we set the null hypothesis that loneliness does not significantly affect subjective well-being and the alternative hypothesis that loneliness significantly affects subjective well-being. I will then use a two-tailed test to test for differences in levels of happiness at different levels of loneliness before calculating the p-value associated with the test statistic and determining whether the null hypothesis is rejected. In addition, in order to hypothesise that the test is valid it needs to be satisfied that the sample data should be randomly selectedExpected Results:\n",
    "If the test results reject the null hypothesis, it means that loneliness has a significant effect on well-being conversely, if it does not reject the null hypothesis, it indicates that loneliness does not have a significant effect on subjective well-being in this sample. \n",
    "Data Visualization:\n",
    "In addition, I will also draw box plots to show the distribution of happiness at different levels of loneliness. This is because box plots can clearly reflect the effect of loneliness on happiness by showing the median, quartiles and outliers of happiness at different levels of loneliness.\n",
    "\n",
    "These methods of analysis allow us to determine the average level and range of subjective well-being of the sampled population using confidence interval analysis. The understanding of the relationship between the number of close friends and happiness through linear regression equations highlights the importance of social relationships, while hypothesis testing further understands the negative impact of loneliness on happiness. All in all, these analytical methods help us to recognise the key factors affecting personal well-being and support subsequent improvements. In addition, I would like to form a team with Xiaotianweng and Runfenglv because we are familiar with each other, we recognise each other's learning ability and we often communicate and discuss with each other in private. I believe that our team will be able to complete this project in a better way.\n"
   ]
  }
 ],
 "metadata": {
  "kernelspec": {
   "display_name": "Python 3 (ipykernel)",
   "language": "python",
   "name": "python3"
  },
  "language_info": {
   "codemirror_mode": {
    "name": "ipython",
    "version": 3
   },
   "file_extension": ".py",
   "mimetype": "text/x-python",
   "name": "python",
   "nbconvert_exporter": "python",
   "pygments_lexer": "ipython3",
   "version": "3.11.6"
  }
 },
 "nbformat": 4,
 "nbformat_minor": 5
}
